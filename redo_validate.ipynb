{
 "cells": [
  {
   "cell_type": "code",
   "execution_count": 104,
   "metadata": {},
   "outputs": [],
   "source": [
    "import pandas as pd\n",
    "import numpy as np\n",
    "import matplotlib.pyplot as plt\n",
    "import pickle\n",
    "import datetime\n",
    "\n",
    "def separate_closed_open_days(dataframe):\n",
    "  return np.array(dataframe[dataframe['open']==0].index), np.array(dataframe[dataframe['open']!=0].index)\n",
    "\n",
    "def flag_near_christmas(row):\n",
    "    if (row['date'] >= pd.Timestamp(datetime.date(2013, 12, 14))) & (row['date'] <= pd.Timestamp(datetime.date(2013, 12, 23))):\n",
    "        return 1\n",
    "    elif (row['date'] >= pd.Timestamp((datetime.date(2014, 12, 14)))) & (row['date'] <= pd.Timestamp((datetime.date(2014, 12, 23)))):\n",
    "        return 1\n",
    "    else:\n",
    "        return 0\n",
    "\n",
    "def flag_near_easter(row):\n",
    "    if (row['date'] >= pd.Timestamp(datetime.date(2013, 3, 25))) & (row['date'] <= pd.Timestamp(datetime.date(2013, 3, 29))):\n",
    "        return 1\n",
    "    elif (row['date'] >= pd.Timestamp(datetime.date(2014, 4, 14))) & (row['date'] <= pd.Timestamp(datetime.date(2014, 4, 18))):\n",
    "        return 1\n",
    "    elif (row['date'] >= pd.Timestamp(datetime.date(2015, 3, 29))) & (row['date'] <= pd.Timestamp(datetime.date(2015, 4, 3))):\n",
    "        return 1\n",
    "    else:\n",
    "        return 0\n",
    "    \n",
    "def get_year(date):\n",
    "    return date.year\n",
    "\n",
    "def get_month(date):\n",
    "    return date.month\n",
    "\n",
    "\n",
    "def preprocess(input):\n",
    "    month_avg_sales_dict = pickle.load(open('pkl_dow_avg_salespperson_dict.p','rb'))\n",
    "    dow_avg_salespperson_dict = pickle.load(open('pkl_dow_avg_salespperson_dict.p','rb'))\n",
    "    store_avg_sales_dict = pickle.load(open('pkl_store_avg_sales_dict.p','rb'))\n",
    "    store_avg_salesperperson_dict = pickle.load(open('pkl_store_avg_salespperson_dict.p','rb'))\n",
    "\n",
    "    X_test = pd.DataFrame(input)\n",
    "\n",
    "    closed_days_t, open_days_t = separate_closed_open_days(X_test)\n",
    "    X_test_closed = X_test.loc[closed_days_t]\n",
    "    X_test_open = X_test.loc[open_days_t]\n",
    "    X_test_open['dow_avg_sales/person'] = X_test_open['day_of_week'].replace(dow_avg_salespperson_dict)\n",
    "    X_test_open['store_avg_sales']=X_test_open['store_ID'].replace(store_avg_sales_dict)\n",
    "    X_test_open['store_avg_sales/person']=X_test_open['store_ID'].replace(store_avg_salesperperson_dict)\n",
    "    X_test_open['date'] = pd.to_datetime(X_test_open['date'])\n",
    "\n",
    "    X_test_open['nearchristmas'] = X_test_open.apply(flag_near_christmas,axis=1)\n",
    "    X_test_open['neareaster'] = X_test_open.apply(flag_near_easter,axis=1)\n",
    "    X_test_open['year'] = X_test_open['date'].apply(get_year)\n",
    "    X_test_open['month'] = X_test_open['date'].apply(get_month)\n",
    "    X_test_open = pd.concat((X_test_open,pd.get_dummies(X_test_open['year'],drop_first=True,dtype=int)),axis=1)\n",
    "    X_test_open['month_avg_sales'] = X_test_open['month'].replace(month_avg_sales_dict)\n",
    "    X_test_open = X_test_open.rename(columns=str)\n",
    "    cols = ['nb_customers_on_day', 'promotion', 'school_holiday','dow_avg_sales/person', 'store_avg_sales', 'store_avg_sales/person','nearchristmas', 'neareaster', '2014', '2015', 'month_avg_sales']\n",
    "    X_test_open = X_test_open.reindex(columns=cols, fill_value=0)\n",
    "\n",
    "    return X_test_open, X_test_closed\n",
    "\n",
    "def run_model(mylist):\n",
    "   \n",
    "    xgb_reg = pickle.load(open('pkl_model.p','rb'))\n",
    "    \n",
    "    X_new = [mylist]\n",
    "    X_test_open, X_test_closed = preprocess(X_new)\n",
    "    X_test_open['prediction']  = xgb_reg.predict(X_test_open)\n",
    "    X_test_closed['prediction']=0\n",
    "    allpreds = np.concatenate((np.array(X_test_open['prediction'] ), np.array(X_test_closed['prediction'])))\n",
    "    print(allpreds)\n",
    "    return allpreds"
   ]
  },
  {
   "cell_type": "code",
   "execution_count": 106,
   "metadata": {},
   "outputs": [
    {
     "name": "stdout",
     "output_type": "stream",
     "text": [
      "[17170.35546875]\n"
     ]
    },
    {
     "name": "stderr",
     "output_type": "stream",
     "text": [
      "/var/folders/lw/14dpn8b91z99svtdtfqnx09800tlp4/T/ipykernel_20854/2935374920.py:49: UserWarning: Parsing dates in %d/%m/%Y format when dayfirst=False (the default) was specified. Pass `dayfirst=True` or specify a format to silence this warning.\n",
      "  X_test_open['date'] = pd.to_datetime(X_test_open['date'])\n"
     ]
    },
    {
     "data": {
      "text/plain": [
       "np.float64(17170.35546875)"
      ]
     },
     "execution_count": 106,
     "metadata": {},
     "output_type": "execute_result"
    }
   ],
   "source": [
    "x= {\"store_ID\":49,\"day_of_week\":4,\"date\":\"26/06/2014\",\"nb_customers_on_day\":1254,\"open\":1,\"promotion\":0,\"state_holiday\":\"0\",\"school_holiday\":1,}\n",
    "\n",
    "preds = run_model(x)[0]\n",
    "\n",
    "preds\n"
   ]
  }
 ],
 "metadata": {
  "kernelspec": {
   "display_name": "3.9.2",
   "language": "python",
   "name": "python3"
  },
  "language_info": {
   "codemirror_mode": {
    "name": "ipython",
    "version": 3
   },
   "file_extension": ".py",
   "mimetype": "text/x-python",
   "name": "python",
   "nbconvert_exporter": "python",
   "pygments_lexer": "ipython3",
   "version": "3.9.2"
  }
 },
 "nbformat": 4,
 "nbformat_minor": 2
}
